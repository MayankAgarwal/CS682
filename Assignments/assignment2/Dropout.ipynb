{
 "cells": [
  {
   "cell_type": "markdown",
   "metadata": {},
   "source": [
    "# Dropout\n",
    "Dropout [1] is a technique for regularizing neural networks by randomly setting some features to zero during the forward pass. In this exercise you will implement a dropout layer and modify your fully-connected network to optionally use dropout.\n",
    "\n",
    "[1] Geoffrey E. Hinton et al, \"Improving neural networks by preventing co-adaptation of feature detectors\", arXiv 2012"
   ]
  },
  {
   "cell_type": "code",
   "execution_count": 1,
   "metadata": {
    "collapsed": false
   },
   "outputs": [],
   "source": [
    "# As usual, a bit of setup\n",
    "\n",
    "import time\n",
    "import numpy as np\n",
    "import matplotlib.pyplot as plt\n",
    "from asgn2.classifiers.fc_net import *\n",
    "from asgn2.data_utils import get_CIFAR10_data\n",
    "from asgn2.gradient_check import eval_numerical_gradient, eval_numerical_gradient_array\n",
    "from asgn2.solver import Solver\n",
    "\n",
    "%matplotlib inline\n",
    "plt.rcParams['figure.figsize'] = (10.0, 8.0) # set default size of plots\n",
    "plt.rcParams['image.interpolation'] = 'nearest'\n",
    "plt.rcParams['image.cmap'] = 'gray'\n",
    "\n",
    "# for auto-reloading external modules\n",
    "# see http://stackoverflow.com/questions/1907993/autoreload-of-modules-in-ipython\n",
    "%load_ext autoreload\n",
    "%autoreload 2\n",
    "\n",
    "def rel_error(x, y):\n",
    "  \"\"\" returns relative error \"\"\"\n",
    "  return np.max(np.abs(x - y) / (np.maximum(1e-8, np.abs(x) + np.abs(y))))"
   ]
  },
  {
   "cell_type": "code",
   "execution_count": 2,
   "metadata": {
    "collapsed": false
   },
   "outputs": [
    {
     "name": "stdout",
     "output_type": "stream",
     "text": [
      "X_val:  (1000, 3, 32, 32)\n",
      "X_train:  (49000, 3, 32, 32)\n",
      "X_test:  (1000, 3, 32, 32)\n",
      "y_val:  (1000,)\n",
      "y_train:  (49000,)\n",
      "y_test:  (1000,)\n"
     ]
    }
   ],
   "source": [
    "# Load the (preprocessed) CIFAR10 data.\n",
    "\n",
    "data = get_CIFAR10_data()\n",
    "for k, v in data.iteritems():\n",
    "  print '%s: ' % k, v.shape"
   ]
  },
  {
   "cell_type": "markdown",
   "metadata": {},
   "source": [
    "# Dropout forward pass\n",
    "In the file `asgn2/layers.py`, implement the forward pass for dropout. Since dropout behaves differently during training and testing, make sure to implement the operation for both modes.\n",
    "\n",
    "Once you have done so, run the cell below to test your implementation."
   ]
  },
  {
   "cell_type": "code",
   "execution_count": 3,
   "metadata": {
    "collapsed": false
   },
   "outputs": [
    {
     "name": "stdout",
     "output_type": "stream",
     "text": [
      "Running tests with p =  0.3\n",
      "Mean of input:  10.0014932434\n",
      "Mean of train-time output:  9.98657245212\n",
      "Mean of test-time output:  10.0014932434\n",
      "Fraction of train-time output set to zero:  0.301104\n",
      "Fraction of test-time output set to zero:  0.0\n",
      "\n",
      "Running tests with p =  0.6\n",
      "Mean of input:  10.0014932434\n",
      "Mean of train-time output:  10.0540614475\n",
      "Mean of test-time output:  10.0014932434\n",
      "Fraction of train-time output set to zero:  0.597956\n",
      "Fraction of test-time output set to zero:  0.0\n",
      "\n",
      "Running tests with p =  0.75\n",
      "Mean of input:  10.0014932434\n",
      "Mean of train-time output:  9.99259814197\n",
      "Mean of test-time output:  10.0014932434\n",
      "Fraction of train-time output set to zero:  0.750236\n",
      "Fraction of test-time output set to zero:  0.0\n",
      "\n"
     ]
    }
   ],
   "source": [
    "x = np.random.randn(500, 500) + 10\n",
    "\n",
    "for p in [0.3, 0.6, 0.75]:\n",
    "  out, _ = dropout_forward(x, {'mode': 'train', 'p': p})\n",
    "  out_test, _ = dropout_forward(x, {'mode': 'test', 'p': p})\n",
    "\n",
    "  print 'Running tests with p = ', p\n",
    "  print 'Mean of input: ', x.mean()\n",
    "  print 'Mean of train-time output: ', out.mean()\n",
    "  print 'Mean of test-time output: ', out_test.mean()\n",
    "  print 'Fraction of train-time output set to zero: ', (out == 0).mean()\n",
    "  print 'Fraction of test-time output set to zero: ', (out_test == 0).mean()\n",
    "  print"
   ]
  },
  {
   "cell_type": "markdown",
   "metadata": {},
   "source": [
    "# Dropout backward pass\n",
    "In the file `asgn2/layers.py`, implement the backward pass for dropout. After doing so, run the following cell to numerically gradient-check your implementation."
   ]
  },
  {
   "cell_type": "code",
   "execution_count": 4,
   "metadata": {
    "collapsed": false
   },
   "outputs": [
    {
     "name": "stdout",
     "output_type": "stream",
     "text": [
      "dx relative error:  1.89290296768e-11\n"
     ]
    }
   ],
   "source": [
    "x = np.random.randn(10, 10) + 10\n",
    "dout = np.random.randn(*x.shape)\n",
    "\n",
    "dropout_param = {'mode': 'train', 'p': 0.8, 'seed': 123}\n",
    "out, cache = dropout_forward(x, dropout_param)\n",
    "dx = dropout_backward(dout, cache)\n",
    "dx_num = eval_numerical_gradient_array(lambda xx: dropout_forward(xx, dropout_param)[0], x, dout)\n",
    "\n",
    "print 'dx relative error: ', rel_error(dx, dx_num)"
   ]
  },
  {
   "cell_type": "markdown",
   "metadata": {},
   "source": [
    "# Fully-connected nets with Dropout\n",
    "In the file `asgn2/classifiers/fc_net.py`, modify your implementation to use dropout. Specificially, if the constructor the the net receives a nonzero value for the `dropout` parameter, then the net should add dropout immediately after every ReLU nonlinearity. After doing so, run the following to numerically gradient-check your implementation."
   ]
  },
  {
   "cell_type": "code",
   "execution_count": 5,
   "metadata": {
    "collapsed": false
   },
   "outputs": [
    {
     "name": "stdout",
     "output_type": "stream",
     "text": [
      "Running check with dropout =  0\n",
      "Initial loss:  2.3051948274\n",
      "W1 relative error: 2.53e-07\n",
      "W2 relative error: 1.50e-05\n",
      "W3 relative error: 2.75e-07\n",
      "b1 relative error: 2.94e-06\n",
      "b2 relative error: 5.05e-08\n",
      "b3 relative error: 1.17e-10\n",
      "\n",
      "Running check with dropout =  0.25\n",
      "Initial loss:  2.29898614757\n",
      "W1 relative error: 9.74e-07\n",
      "W2 relative error: 2.43e-08\n",
      "W3 relative error: 3.04e-08\n",
      "b1 relative error: 2.01e-08\n",
      "b2 relative error: 1.90e-09\n",
      "b3 relative error: 1.30e-10\n",
      "\n",
      "Running check with dropout =  0.5\n",
      "Initial loss:  2.30243758771\n",
      "W1 relative error: 4.55e-08\n",
      "W2 relative error: 2.97e-08\n",
      "W3 relative error: 4.34e-07\n",
      "b1 relative error: 1.87e-08\n",
      "b2 relative error: 5.05e-09\n",
      "b3 relative error: 7.49e-11\n",
      "\n"
     ]
    }
   ],
   "source": [
    "N, D, H1, H2, C = 2, 15, 20, 30, 10\n",
    "X = np.random.randn(N, D)\n",
    "y = np.random.randint(C, size=(N,))\n",
    "\n",
    "for dropout in [0, 0.25, 0.5]:\n",
    "  print 'Running check with dropout = ', dropout\n",
    "  model = FullyConnectedNet([H1, H2], input_dim=D, num_classes=C,\n",
    "                            weight_scale=5e-2, dtype=np.float64,\n",
    "                            dropout=dropout, seed=123)\n",
    "\n",
    "  loss, grads = model.loss(X, y)\n",
    "  print 'Initial loss: ', loss\n",
    "\n",
    "  for name in sorted(grads):\n",
    "    f = lambda _: model.loss(X, y)[0]\n",
    "    grad_num = eval_numerical_gradient(f, model.params[name], verbose=False, h=1e-5)\n",
    "    print '%s relative error: %.2e' % (name, rel_error(grad_num, grads[name]))\n",
    "  print"
   ]
  },
  {
   "cell_type": "markdown",
   "metadata": {},
   "source": [
    "# Regularization experiment\n",
    "As an experiment, we will train a pair of two-layer networks on 500 training examples: one will use no dropout, and one will use a dropout probability of 0.75. We will then visualize the training and validation accuracies of the two networks over time."
   ]
  },
  {
   "cell_type": "code",
   "execution_count": 6,
   "metadata": {
    "collapsed": false,
    "scrolled": false
   },
   "outputs": [
    {
     "name": "stdout",
     "output_type": "stream",
     "text": [
      "0\n",
      "(Iteration 1 / 125) loss: 8.596245\n",
      "(Epoch 0 / 25) train acc: 0.224000; val_acc: 0.183000\n",
      "(Epoch 1 / 25) train acc: 0.382000; val_acc: 0.219000\n",
      "(Epoch 2 / 25) train acc: 0.484000; val_acc: 0.248000\n",
      "(Epoch 3 / 25) train acc: 0.620000; val_acc: 0.274000\n",
      "(Epoch 4 / 25) train acc: 0.648000; val_acc: 0.246000\n",
      "(Epoch 5 / 25) train acc: 0.726000; val_acc: 0.283000\n",
      "(Epoch 6 / 25) train acc: 0.784000; val_acc: 0.302000\n",
      "(Epoch 7 / 25) train acc: 0.816000; val_acc: 0.261000\n",
      "(Epoch 8 / 25) train acc: 0.844000; val_acc: 0.270000\n",
      "(Epoch 9 / 25) train acc: 0.896000; val_acc: 0.284000\n",
      "(Epoch 10 / 25) train acc: 0.914000; val_acc: 0.285000\n",
      "(Epoch 11 / 25) train acc: 0.964000; val_acc: 0.271000\n",
      "(Epoch 12 / 25) train acc: 0.954000; val_acc: 0.268000\n",
      "(Epoch 13 / 25) train acc: 0.962000; val_acc: 0.291000\n",
      "(Epoch 14 / 25) train acc: 0.942000; val_acc: 0.289000\n",
      "(Epoch 15 / 25) train acc: 0.974000; val_acc: 0.281000\n",
      "(Epoch 16 / 25) train acc: 0.978000; val_acc: 0.272000\n",
      "(Epoch 17 / 25) train acc: 0.986000; val_acc: 0.273000\n",
      "(Epoch 18 / 25) train acc: 0.986000; val_acc: 0.266000\n",
      "(Epoch 19 / 25) train acc: 0.982000; val_acc: 0.283000\n",
      "(Epoch 20 / 25) train acc: 0.962000; val_acc: 0.290000\n",
      "(Iteration 101 / 125) loss: 0.018305\n",
      "(Epoch 21 / 25) train acc: 0.988000; val_acc: 0.306000\n",
      "(Epoch 22 / 25) train acc: 0.982000; val_acc: 0.294000\n",
      "(Epoch 23 / 25) train acc: 0.984000; val_acc: 0.294000\n",
      "(Epoch 24 / 25) train acc: 0.994000; val_acc: 0.311000\n",
      "(Epoch 25 / 25) train acc: 0.984000; val_acc: 0.286000\n",
      "0.25\n",
      "(Iteration 1 / 125) loss: 10.053350\n",
      "(Epoch 0 / 25) train acc: 0.274000; val_acc: 0.230000\n",
      "(Epoch 1 / 25) train acc: 0.352000; val_acc: 0.211000\n",
      "(Epoch 2 / 25) train acc: 0.444000; val_acc: 0.269000\n",
      "(Epoch 3 / 25) train acc: 0.566000; val_acc: 0.263000\n",
      "(Epoch 4 / 25) train acc: 0.650000; val_acc: 0.257000\n",
      "(Epoch 5 / 25) train acc: 0.680000; val_acc: 0.280000\n",
      "(Epoch 6 / 25) train acc: 0.768000; val_acc: 0.310000\n",
      "(Epoch 7 / 25) train acc: 0.774000; val_acc: 0.270000\n",
      "(Epoch 8 / 25) train acc: 0.824000; val_acc: 0.274000\n",
      "(Epoch 9 / 25) train acc: 0.894000; val_acc: 0.287000\n",
      "(Epoch 10 / 25) train acc: 0.876000; val_acc: 0.283000\n",
      "(Epoch 11 / 25) train acc: 0.922000; val_acc: 0.311000\n",
      "(Epoch 12 / 25) train acc: 0.934000; val_acc: 0.311000\n",
      "(Epoch 13 / 25) train acc: 0.894000; val_acc: 0.282000\n",
      "(Epoch 14 / 25) train acc: 0.936000; val_acc: 0.280000\n",
      "(Epoch 15 / 25) train acc: 0.946000; val_acc: 0.324000\n",
      "(Epoch 16 / 25) train acc: 0.928000; val_acc: 0.300000\n",
      "(Epoch 17 / 25) train acc: 0.952000; val_acc: 0.286000\n",
      "(Epoch 18 / 25) train acc: 0.938000; val_acc: 0.306000\n",
      "(Epoch 19 / 25) train acc: 0.978000; val_acc: 0.302000\n",
      "(Epoch 20 / 25) train acc: 0.966000; val_acc: 0.306000\n",
      "(Iteration 101 / 125) loss: 0.527195\n",
      "(Epoch 21 / 25) train acc: 0.958000; val_acc: 0.314000\n",
      "(Epoch 22 / 25) train acc: 0.984000; val_acc: 0.319000\n",
      "(Epoch 23 / 25) train acc: 0.988000; val_acc: 0.306000\n",
      "(Epoch 24 / 25) train acc: 0.964000; val_acc: 0.274000\n",
      "(Epoch 25 / 25) train acc: 0.982000; val_acc: 0.291000\n",
      "0.5\n",
      "(Iteration 1 / 125) loss: 12.066234\n",
      "(Epoch 0 / 25) train acc: 0.182000; val_acc: 0.128000\n",
      "(Epoch 1 / 25) train acc: 0.370000; val_acc: 0.253000\n",
      "(Epoch 2 / 25) train acc: 0.510000; val_acc: 0.265000\n",
      "(Epoch 3 / 25) train acc: 0.558000; val_acc: 0.277000\n",
      "(Epoch 4 / 25) train acc: 0.642000; val_acc: 0.279000\n",
      "(Epoch 5 / 25) train acc: 0.662000; val_acc: 0.313000\n",
      "(Epoch 6 / 25) train acc: 0.722000; val_acc: 0.312000\n",
      "(Epoch 7 / 25) train acc: 0.744000; val_acc: 0.290000\n",
      "(Epoch 8 / 25) train acc: 0.806000; val_acc: 0.321000\n",
      "(Epoch 9 / 25) train acc: 0.826000; val_acc: 0.305000\n",
      "(Epoch 10 / 25) train acc: 0.870000; val_acc: 0.314000\n",
      "(Epoch 11 / 25) train acc: 0.882000; val_acc: 0.293000\n",
      "(Epoch 12 / 25) train acc: 0.906000; val_acc: 0.318000\n",
      "(Epoch 13 / 25) train acc: 0.924000; val_acc: 0.291000\n",
      "(Epoch 14 / 25) train acc: 0.918000; val_acc: 0.281000\n",
      "(Epoch 15 / 25) train acc: 0.928000; val_acc: 0.297000\n",
      "(Epoch 16 / 25) train acc: 0.958000; val_acc: 0.327000\n",
      "(Epoch 17 / 25) train acc: 0.946000; val_acc: 0.289000\n",
      "(Epoch 18 / 25) train acc: 0.948000; val_acc: 0.318000\n",
      "(Epoch 19 / 25) train acc: 0.946000; val_acc: 0.334000\n",
      "(Epoch 20 / 25) train acc: 0.948000; val_acc: 0.308000\n",
      "(Iteration 101 / 125) loss: 1.193456\n",
      "(Epoch 21 / 25) train acc: 0.946000; val_acc: 0.304000\n",
      "(Epoch 22 / 25) train acc: 0.948000; val_acc: 0.309000\n",
      "(Epoch 23 / 25) train acc: 0.954000; val_acc: 0.292000\n",
      "(Epoch 24 / 25) train acc: 0.948000; val_acc: 0.295000\n",
      "(Epoch 25 / 25) train acc: 0.968000; val_acc: 0.309000\n",
      "0.75\n",
      "(Iteration 1 / 125) loss: 15.781663\n",
      "(Epoch 0 / 25) train acc: 0.208000; val_acc: 0.167000\n",
      "(Epoch 1 / 25) train acc: 0.362000; val_acc: 0.250000\n",
      "(Epoch 2 / 25) train acc: 0.464000; val_acc: 0.283000\n",
      "(Epoch 3 / 25) train acc: 0.522000; val_acc: 0.274000\n",
      "(Epoch 4 / 25) train acc: 0.526000; val_acc: 0.262000\n",
      "(Epoch 5 / 25) train acc: 0.550000; val_acc: 0.269000\n",
      "(Epoch 6 / 25) train acc: 0.616000; val_acc: 0.295000\n",
      "(Epoch 7 / 25) train acc: 0.682000; val_acc: 0.308000\n",
      "(Epoch 8 / 25) train acc: 0.684000; val_acc: 0.282000\n",
      "(Epoch 9 / 25) train acc: 0.700000; val_acc: 0.288000\n",
      "(Epoch 10 / 25) train acc: 0.736000; val_acc: 0.321000\n",
      "(Epoch 11 / 25) train acc: 0.774000; val_acc: 0.304000\n",
      "(Epoch 12 / 25) train acc: 0.762000; val_acc: 0.306000\n",
      "(Epoch 13 / 25) train acc: 0.818000; val_acc: 0.321000\n",
      "(Epoch 14 / 25) train acc: 0.830000; val_acc: 0.313000\n",
      "(Epoch 15 / 25) train acc: 0.858000; val_acc: 0.321000\n",
      "(Epoch 16 / 25) train acc: 0.892000; val_acc: 0.311000\n",
      "(Epoch 17 / 25) train acc: 0.888000; val_acc: 0.314000\n",
      "(Epoch 18 / 25) train acc: 0.888000; val_acc: 0.327000\n",
      "(Epoch 19 / 25) train acc: 0.886000; val_acc: 0.337000\n",
      "(Epoch 20 / 25) train acc: 0.926000; val_acc: 0.344000\n",
      "(Iteration 101 / 125) loss: 5.077885\n",
      "(Epoch 21 / 25) train acc: 0.926000; val_acc: 0.313000\n",
      "(Epoch 22 / 25) train acc: 0.914000; val_acc: 0.311000\n",
      "(Epoch 23 / 25) train acc: 0.900000; val_acc: 0.295000\n",
      "(Epoch 24 / 25) train acc: 0.880000; val_acc: 0.288000\n",
      "(Epoch 25 / 25) train acc: 0.918000; val_acc: 0.306000\n",
      "0.9\n",
      "(Iteration 1 / 125) loss: 27.032976\n",
      "(Epoch 0 / 25) train acc: 0.176000; val_acc: 0.153000\n",
      "(Epoch 1 / 25) train acc: 0.306000; val_acc: 0.229000\n",
      "(Epoch 2 / 25) train acc: 0.366000; val_acc: 0.281000\n",
      "(Epoch 3 / 25) train acc: 0.392000; val_acc: 0.284000\n",
      "(Epoch 4 / 25) train acc: 0.422000; val_acc: 0.297000\n",
      "(Epoch 5 / 25) train acc: 0.458000; val_acc: 0.292000\n",
      "(Epoch 6 / 25) train acc: 0.502000; val_acc: 0.292000\n",
      "(Epoch 7 / 25) train acc: 0.540000; val_acc: 0.307000\n",
      "(Epoch 8 / 25) train acc: 0.582000; val_acc: 0.318000\n",
      "(Epoch 9 / 25) train acc: 0.582000; val_acc: 0.303000\n",
      "(Epoch 10 / 25) train acc: 0.606000; val_acc: 0.302000\n",
      "(Epoch 11 / 25) train acc: 0.614000; val_acc: 0.315000\n",
      "(Epoch 12 / 25) train acc: 0.624000; val_acc: 0.320000\n",
      "(Epoch 13 / 25) train acc: 0.652000; val_acc: 0.326000\n",
      "(Epoch 14 / 25) train acc: 0.664000; val_acc: 0.314000\n",
      "(Epoch 15 / 25) train acc: 0.700000; val_acc: 0.314000\n",
      "(Epoch 16 / 25) train acc: 0.708000; val_acc: 0.333000\n",
      "(Epoch 17 / 25) train acc: 0.722000; val_acc: 0.357000\n",
      "(Epoch 18 / 25) train acc: 0.698000; val_acc: 0.328000\n",
      "(Epoch 19 / 25) train acc: 0.668000; val_acc: 0.299000\n",
      "(Epoch 20 / 25) train acc: 0.720000; val_acc: 0.346000\n",
      "(Iteration 101 / 125) loss: 16.716471\n",
      "(Epoch 21 / 25) train acc: 0.716000; val_acc: 0.346000\n",
      "(Epoch 22 / 25) train acc: 0.738000; val_acc: 0.341000\n",
      "(Epoch 23 / 25) train acc: 0.722000; val_acc: 0.332000\n",
      "(Epoch 24 / 25) train acc: 0.748000; val_acc: 0.321000\n",
      "(Epoch 25 / 25) train acc: 0.724000; val_acc: 0.320000\n",
      "0.99\n",
      "(Iteration 1 / 125) loss: inf\n"
     ]
    },
    {
     "name": "stderr",
     "output_type": "stream",
     "text": [
      "asgn2/layers.py:741: RuntimeWarning: divide by zero encountered in log\n",
      "  loss = -np.sum(np.log(probs[np.arange(N), y])) / N\n"
     ]
    },
    {
     "name": "stdout",
     "output_type": "stream",
     "text": [
      "(Epoch 0 / 25) train acc: 0.136000; val_acc: 0.121000\n",
      "(Epoch 1 / 25) train acc: 0.180000; val_acc: 0.184000\n",
      "(Epoch 2 / 25) train acc: 0.234000; val_acc: 0.205000\n",
      "(Epoch 3 / 25) train acc: 0.252000; val_acc: 0.202000\n",
      "(Epoch 4 / 25) train acc: 0.258000; val_acc: 0.205000\n",
      "(Epoch 5 / 25) train acc: 0.262000; val_acc: 0.215000\n",
      "(Epoch 6 / 25) train acc: 0.262000; val_acc: 0.213000\n",
      "(Epoch 7 / 25) train acc: 0.270000; val_acc: 0.224000\n",
      "(Epoch 8 / 25) train acc: 0.272000; val_acc: 0.222000\n",
      "(Epoch 9 / 25) train acc: 0.278000; val_acc: 0.234000\n",
      "(Epoch 10 / 25) train acc: 0.296000; val_acc: 0.255000\n",
      "(Epoch 11 / 25) train acc: 0.292000; val_acc: 0.254000\n",
      "(Epoch 12 / 25) train acc: 0.302000; val_acc: 0.250000\n",
      "(Epoch 13 / 25) train acc: 0.306000; val_acc: 0.263000\n",
      "(Epoch 14 / 25) train acc: 0.308000; val_acc: 0.258000\n",
      "(Epoch 15 / 25) train acc: 0.328000; val_acc: 0.271000\n",
      "(Epoch 16 / 25) train acc: 0.322000; val_acc: 0.274000\n",
      "(Epoch 17 / 25) train acc: 0.330000; val_acc: 0.276000\n",
      "(Epoch 18 / 25) train acc: 0.326000; val_acc: 0.273000\n",
      "(Epoch 19 / 25) train acc: 0.322000; val_acc: 0.269000\n",
      "(Epoch 20 / 25) train acc: 0.352000; val_acc: 0.268000\n",
      "(Iteration 101 / 125) loss: 80.862379\n",
      "(Epoch 21 / 25) train acc: 0.368000; val_acc: 0.289000\n",
      "(Epoch 22 / 25) train acc: 0.354000; val_acc: 0.292000\n",
      "(Epoch 23 / 25) train acc: 0.364000; val_acc: 0.281000\n",
      "(Epoch 24 / 25) train acc: 0.364000; val_acc: 0.283000\n",
      "(Epoch 25 / 25) train acc: 0.356000; val_acc: 0.289000\n"
     ]
    }
   ],
   "source": [
    "# Train two identical nets, one with dropout and one without\n",
    "\n",
    "num_train = 500\n",
    "small_data = {\n",
    "  'X_train': data['X_train'][:num_train],\n",
    "  'y_train': data['y_train'][:num_train],\n",
    "  'X_val': data['X_val'],\n",
    "  'y_val': data['y_val'],\n",
    "}\n",
    "\n",
    "solvers = {}\n",
    "dropout_choices = [0, 0.25, 0.5, 0.75, 0.9, 0.99]\n",
    "for dropout in dropout_choices:\n",
    "  model = FullyConnectedNet([500], dropout=dropout)\n",
    "  print dropout\n",
    "\n",
    "  solver = Solver(model, small_data,\n",
    "                  num_epochs=25, batch_size=100,\n",
    "                  update_rule='adam',\n",
    "                  optim_config={\n",
    "                    'learning_rate': 5e-4,\n",
    "                  },\n",
    "                  verbose=True, print_every=100)\n",
    "  solver.train()\n",
    "  solvers[dropout] = solver"
   ]
  },
  {
   "cell_type": "code",
   "execution_count": 7,
   "metadata": {
    "collapsed": false
   },
   "outputs": [
    {
     "data": {
      "image/png": "[encoded data removed]",
      "text/plain": [
       "<matplotlib.figure.Figure at 0x10218cc10>"
      ]
     },
     "metadata": {},
     "output_type": "display_data"
    }
   ],
   "source": [
    "# Plot train and validation accuracies of the two models\n",
    "\n",
    "train_accs = []\n",
    "val_accs = []\n",
    "for dropout in dropout_choices:\n",
    "  solver = solvers[dropout]\n",
    "  train_accs.append(solver.train_acc_history[-1])\n",
    "  val_accs.append(solver.val_acc_history[-1])\n",
    "\n",
    "plt.subplot(3, 1, 1)\n",
    "for dropout in dropout_choices:\n",
    "  plt.plot(solvers[dropout].train_acc_history, 'o', label='%.2f dropout' % dropout)\n",
    "plt.title('Train accuracy')\n",
    "plt.xlabel('Epoch')\n",
    "plt.ylabel('Accuracy')\n",
    "plt.legend(ncol=2, loc='lower right')\n",
    "  \n",
    "plt.subplot(3, 1, 2)\n",
    "for dropout in dropout_choices:\n",
    "  plt.plot(solvers[dropout].val_acc_history, 'o', label='%.2f dropout' % dropout)\n",
    "plt.title('Val accuracy')\n",
    "plt.xlabel('Epoch')\n",
    "plt.ylabel('Accuracy')\n",
    "plt.legend(ncol=2, loc='lower right')\n",
    "\n",
    "plt.gcf().set_size_inches(15, 15)\n",
    "plt.show()"
   ]
  },
  {
   "cell_type": "markdown",
   "metadata": {},
   "source": [
    "# Question\n",
    "Explain what you see in this experiment. What does it suggest about dropout?"
   ]
  },
  {
   "cell_type": "markdown",
   "metadata": {},
   "source": [
    "# Answer\n",
    "\n",
    "In the above experiment, as the dropout strength is increased, the difference between the validation and train accuracy has reduced. Thus, dropout helps to control overfitting in networks. With no dropout, the model achieved over 98% training accuracy, but only 28% validation accuracy. As dropout strength is increased, the training accuracy has reduced to better resemble validation accuracy without reducing the validation accuracy."
   ]
  },
  {
   "cell_type": "code",
   "execution_count": null,
   "metadata": {},
   "outputs": [],
   "source": []
  }
 ],
 "metadata": {
  "kernelspec": {
   "display_name": "Python [Root]",
   "language": "python",
   "name": "Python [Root]"
  },
  "language_info": {
   "codemirror_mode": {
    "name": "ipython",
    "version": 2
   },
   "file_extension": ".py",
   "mimetype": "text/x-python",
   "name": "python",
   "nbconvert_exporter": "python",
   "pygments_lexer": "ipython2",
   "version": "2.7.12"
  }
 },
 "nbformat": 4,
 "nbformat_minor": 2
}
